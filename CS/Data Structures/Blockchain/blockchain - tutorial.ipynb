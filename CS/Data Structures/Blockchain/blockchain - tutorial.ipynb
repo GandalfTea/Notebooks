{
 "cells": [
  {
   "cell_type": "code",
   "execution_count": null,
   "metadata": {},
   "outputs": [],
   "source": [
    "# http://ecomunsing.com/build-your-own-blockchain"
   ]
  },
  {
   "cell_type": "code",
   "execution_count": 1,
   "metadata": {},
   "outputs": [],
   "source": [
    "import hashlib\n",
    "import json\n",
    "import sys"
   ]
  },
  {
   "cell_type": "code",
   "execution_count": 2,
   "metadata": {},
   "outputs": [],
   "source": [
    "# Encrypt information:\n",
    "\n",
    "def hashMe(msg=\"\"):\n",
    "    # Helper function to wrap hashing alg.\n",
    "    \n",
    "    if type(msg) != str:\n",
    "        msg = json.dumps(msg,sort_keys=True)\n",
    "        # If we don't sort keys, we can't guarantee repetability.\n",
    "        \n",
    "    if sys.version_info.major == 2:\n",
    "        return unicode(hashlib.sha256(msg).hexdigest(), 'utf-8')\n",
    "    else:\n",
    "        return hashlib.sha256(str(msg).encode('utf-8')).hexdigest()\n",
    "        "
   ]
  },
  {
   "cell_type": "code",
   "execution_count": 3,
   "metadata": {},
   "outputs": [],
   "source": [
    "import random\n",
    "random.seed(0)"
   ]
  },
  {
   "cell_type": "code",
   "execution_count": 4,
   "metadata": {},
   "outputs": [],
   "source": [
    "# Create transactions :\n",
    "\n",
    "def makeTransaction(maxValue=3):\n",
    "    # Create valid transactions in range(1, maxValue)\n",
    "    \n",
    "    # Randomly choose -1 or 1:\n",
    "    sign = int(random.getrandbits(1))*2 - 1\n",
    "    \n",
    "    amount = random.randint(1,maxValue)\n",
    "    alicePays = sign * amount\n",
    "    bobPays = -1* alicePays\n",
    "    \n",
    "    return{u'Alice' : alicePays,\n",
    "          u'Bob' : bobPays}\n",
    "    \n",
    "    # By construction, this will always return transactions that\n",
    "    # respect the conservation of tokens.\n",
    "    \n",
    "    # Note : We have not checked for overdraft.\n",
    "    "
   ]
  },
  {
   "cell_type": "code",
   "execution_count": 76,
   "metadata": {},
   "outputs": [],
   "source": [
    "# Create a large set of transactions to hold in blocks :\n",
    "\n",
    "txnBuffer = [makeTransaction() for i in range(30)]"
   ]
  },
  {
   "cell_type": "code",
   "execution_count": 77,
   "metadata": {},
   "outputs": [],
   "source": [
    "# In Bitcoin, the validation function checks that :\n",
    "\n",
    "# 1.The input values are valid unspent transaction outputs (UTXOs)\n",
    "# 2.The output of the transactions are no greater than the input\n",
    "# 3.The keys used for the signatures are valid\n",
    "\n",
    "# In Etherium, the validation function checks that the smart\n",
    "# contracts were faithfully executed and respect gas limit"
   ]
  },
  {
   "cell_type": "code",
   "execution_count": 78,
   "metadata": {},
   "outputs": [],
   "source": [
    "# The rules we will implement :\n",
    "\n",
    "#    1. The sum of the deposits and withdrawls must be 0\n",
    "#       (tolkens are neither created nor destroyed)\n",
    "#    2. A user;s account must have sufficient funds.\n",
    "\n",
    "# If either conditions are violated, reject the transaction."
   ]
  },
  {
   "cell_type": "code",
   "execution_count": 79,
   "metadata": {},
   "outputs": [],
   "source": [
    "def updateState(txn, state):\n",
    "    # Inputs :\n",
    "    # dictionaries holding account names and :\n",
    "    # txn : numeric values for transfer amount\n",
    "    # state : account balance\n",
    "    \n",
    "    # Returns :\n",
    "    # Updated state\n",
    "    \n",
    "    # Note : This does not validate the transaction, just update\n",
    "    # state.\n",
    "    \n",
    "    state = state.copy()\n",
    "    \n",
    "    for key in txn:\n",
    "        if key in state.keys():\n",
    "            state[key] += txn[key]\n",
    "        else:\n",
    "            state[key] = txn[key]\n",
    "    \n",
    "    return state"
   ]
  },
  {
   "cell_type": "code",
   "execution_count": 80,
   "metadata": {},
   "outputs": [],
   "source": [
    "# Validate transaction :\n",
    "\n",
    "def isValidTxn(txn,state):\n",
    "    # Assume that the transaction is a dictionary keyed by account names\n",
    "\n",
    "    # Check that the sum of the deposits and withdrawals is 0\n",
    "    if sum(txn.values()) != 0:\n",
    "        return False\n",
    "    \n",
    "    # Check that the transaction does not cause an overdraft\n",
    "    for key in txn.keys():\n",
    "        if key in state.keys(): \n",
    "            acctBalance = state[key]\n",
    "        else:\n",
    "            acctBalance = 0\n",
    "        if (acctBalance + txn[key]) < 0:\n",
    "            return False\n",
    "    \n",
    "    return True"
   ]
  },
  {
   "cell_type": "code",
   "execution_count": 81,
   "metadata": {},
   "outputs": [
    {
     "name": "stdout",
     "output_type": "stream",
     "text": [
      "True\n",
      "False\n",
      "False\n",
      "True\n",
      "False\n"
     ]
    }
   ],
   "source": [
    "# Example transactions, some fraudulent :\n",
    "\n",
    "state = {u'Alice':5,u'Bob':5}\n",
    "\n",
    "print(isValidTxn({u'Alice': -3, u'Bob': 3},state))  # Basic transaction- this works great!\n",
    "print(isValidTxn({u'Alice': -4, u'Bob': 3},state))  # But we can't create or destroy tokens!\n",
    "print(isValidTxn({u'Alice': -6, u'Bob': 6},state))  # We also can't overdraft our account.\n",
    "print(isValidTxn({u'Alice': -4, u'Bob': 2,'Lisa':2},state)) # Creating new users is valid\n",
    "print(isValidTxn({u'Alice': -4, u'Bob': 3,'Lisa':2},state)) # But the same rules still apply!"
   ]
  },
  {
   "cell_type": "code",
   "execution_count": 82,
   "metadata": {},
   "outputs": [
    {
     "name": "stdout",
     "output_type": "stream",
     "text": [
      "{\n",
      "  \"contents\": {\n",
      "    \"blockNumber\": 0,\n",
      "    \"parentHash\": null,\n",
      "    \"txnCount\": 1,\n",
      "    \"txns\": [\n",
      "      {\n",
      "        \"Alice\": 50,\n",
      "        \"Bob\": 50\n",
      "      }\n",
      "    ]\n",
      "  },\n",
      "  \"hash\": \"7c88a4312054f89a2b73b04989cd9b9e1ae437e1048f89fbb4e18a08479de507\"\n",
      "}\n"
     ]
    }
   ],
   "source": [
    "# Genesis Block :\n",
    "state = {u'Alice':50, u'Bob':50}\n",
    "\n",
    "genesisBlockTxns = [state]\n",
    "genesisBlockContents = {u'blockNumber' : 0,\n",
    "                        u'parentHash': None,\n",
    "                        u'txnCount' : 1,\n",
    "                        u'txns' : genesisBlockTxns}\n",
    "\n",
    "genesisHash = hashMe(genesisBlockContents)\n",
    "\n",
    "#print(genesisHash)\n",
    "\n",
    "genesisBlock = { u'hash' : genesisHash,\n",
    "                 u'contents' : genesisBlockContents}\n",
    "\n",
    "genesisBlockStr = json.dumps(genesisBlock, sort_keys=True, indent=2)\n",
    "\n",
    "print(genesisBlockStr)\n"
   ]
  },
  {
   "cell_type": "code",
   "execution_count": 83,
   "metadata": {},
   "outputs": [
    {
     "name": "stdout",
     "output_type": "stream",
     "text": [
      "[{'hash': '7c88a4312054f89a2b73b04989cd9b9e1ae437e1048f89fbb4e18a08479de507', 'contents': {'blockNumber': 0, 'parentHash': None, 'txnCount': 1, 'txns': [{'Alice': 50, 'Bob': 50}]}}]\n"
     ]
    }
   ],
   "source": [
    "chain = [genesisBlock]\n",
    "print(chain)"
   ]
  },
  {
   "cell_type": "code",
   "execution_count": 84,
   "metadata": {},
   "outputs": [],
   "source": [
    "# For each block we want to collect a set of transactions, \n",
    "# create a header, hash it and add it to the chain."
   ]
  },
  {
   "cell_type": "code",
   "execution_count": 85,
   "metadata": {},
   "outputs": [],
   "source": [
    "def makeBlock(txns, chain):\n",
    "    parentBlock = chain[-1]\n",
    "    parentHash = parentBlock[u'hash']\n",
    "    blockNumber = parentBlock[u'contents'][u'blockNumber'] + 1\n",
    "    txnCount = len(txns)\n",
    "    \n",
    "    blockContents = {u'blockNumber' : blockNumber,\n",
    "                    u'parentHash' : parentHash,\n",
    "                    u'txnCount' : len(txns),\n",
    "                    'txns' : txns}\n",
    "    \n",
    "    blockHash = hashMe(blockContents)\n",
    "    block = {u'hash' : blockHash,\n",
    "             u'contents' : blockContents}\n",
    "    \n",
    "    return block"
   ]
  },
  {
   "cell_type": "code",
   "execution_count": 86,
   "metadata": {},
   "outputs": [],
   "source": [
    "# Use it to process the transaction buffer from earlier :\n",
    "\n",
    "blockSizeLimit = 5 # Transactions per block, chosen by the miner.\n",
    "                   # Can vary beween blocks.\n",
    "    \n",
    "while len(txnBuffer) > 0:\n",
    "    bufferStartSize = len(txnBuffer)\n",
    "    \n",
    "    # Get a set of valid transactions :\n",
    "    txnList = []\n",
    "    while (len(txnBuffer) > 0) & (len(txnList) < blockSizeLimit):\n",
    "        newTxn = txnBuffer.pop()\n",
    "        validTxn = isValidTxn(newTxn, state) # Return false if invalid\n",
    "        \n",
    "        if validTxn:\n",
    "            txnList.append(newTxn)\n",
    "            state = updateState(newTxn, state)\n",
    "        else:\n",
    "            print(\"ignored transaction\")\n",
    "            sys.stdout.flush()\n",
    "            continue\n",
    "            \n",
    "    # Make a block\n",
    "    myBlock = makeBlock(txnList, chain)\n",
    "    chain.append(myBlock)"
   ]
  },
  {
   "cell_type": "code",
   "execution_count": 87,
   "metadata": {},
   "outputs": [
    {
     "name": "stdout",
     "output_type": "stream",
     "text": [
      "[{'hash': '7c88a4312054f89a2b73b04989cd9b9e1ae437e1048f89fbb4e18a08479de507', 'contents': {'blockNumber': 0, 'parentHash': None, 'txnCount': 1, 'txns': [{'Alice': 50, 'Bob': 50}]}}, {'hash': 'b42642d5eb64a407d990685ec113713ee4d64daf8b7296f852b99f3a26e1432d', 'contents': {'blockNumber': 1, 'parentHash': '7c88a4312054f89a2b73b04989cd9b9e1ae437e1048f89fbb4e18a08479de507', 'txnCount': 5, 'txns': [{'Alice': 1, 'Bob': -1}, {'Alice': -2, 'Bob': 2}, {'Alice': 3, 'Bob': -3}, {'Alice': -1, 'Bob': 1}, {'Alice': -3, 'Bob': 3}]}}, {'hash': 'fbf4ef63adeb70bc52da269def7d00aa78532b1619454bc47aa91e2be812ac4e', 'contents': {'blockNumber': 2, 'parentHash': 'b42642d5eb64a407d990685ec113713ee4d64daf8b7296f852b99f3a26e1432d', 'txnCount': 5, 'txns': [{'Alice': 2, 'Bob': -2}, {'Alice': 2, 'Bob': -2}, {'Alice': 3, 'Bob': -3}, {'Alice': 3, 'Bob': -3}, {'Alice': 2, 'Bob': -2}]}}, {'hash': '357974bff0a1ad1b8119b6f8a54a72b291a87466ffefa03dd53b28824d9e178f', 'contents': {'blockNumber': 3, 'parentHash': 'fbf4ef63adeb70bc52da269def7d00aa78532b1619454bc47aa91e2be812ac4e', 'txnCount': 5, 'txns': [{'Alice': -2, 'Bob': 2}, {'Alice': 1, 'Bob': -1}, {'Alice': 2, 'Bob': -2}, {'Alice': -1, 'Bob': 1}, {'Alice': -3, 'Bob': 3}]}}, {'hash': '8ac5d71e463f1ff1e98a4a80830274df3cd0c04f345a99607e8266858ec3483a', 'contents': {'blockNumber': 4, 'parentHash': '357974bff0a1ad1b8119b6f8a54a72b291a87466ffefa03dd53b28824d9e178f', 'txnCount': 5, 'txns': [{'Alice': -1, 'Bob': 1}, {'Alice': 3, 'Bob': -3}, {'Alice': 1, 'Bob': -1}, {'Alice': 1, 'Bob': -1}, {'Alice': -3, 'Bob': 3}]}}, {'hash': '645025f95e92df838cce7f4190c80e03b273342dd31f6d7d65bb4e3a2c83b6d7', 'contents': {'blockNumber': 5, 'parentHash': '8ac5d71e463f1ff1e98a4a80830274df3cd0c04f345a99607e8266858ec3483a', 'txnCount': 5, 'txns': [{'Alice': -3, 'Bob': 3}, {'Alice': -3, 'Bob': 3}, {'Alice': -2, 'Bob': 2}, {'Alice': 2, 'Bob': -2}, {'Alice': 1, 'Bob': -1}]}}, {'hash': '42a410254f5e460268b005ccf26871e6e04a505f694eaf3deac512dc95a0477d', 'contents': {'blockNumber': 6, 'parentHash': '645025f95e92df838cce7f4190c80e03b273342dd31f6d7d65bb4e3a2c83b6d7', 'txnCount': 5, 'txns': [{'Alice': -1, 'Bob': 1}, {'Alice': -3, 'Bob': 3}, {'Alice': -1, 'Bob': 1}, {'Alice': -2, 'Bob': 2}, {'Alice': -3, 'Bob': 3}]}}]\n"
     ]
    }
   ],
   "source": [
    "print(chain)"
   ]
  },
  {
   "cell_type": "code",
   "execution_count": 88,
   "metadata": {},
   "outputs": [
    {
     "data": {
      "text/plain": [
       "{'hash': '7c88a4312054f89a2b73b04989cd9b9e1ae437e1048f89fbb4e18a08479de507',\n",
       " 'contents': {'blockNumber': 0,\n",
       "  'parentHash': None,\n",
       "  'txnCount': 1,\n",
       "  'txns': [{'Alice': 50, 'Bob': 50}]}}"
      ]
     },
     "execution_count": 88,
     "metadata": {},
     "output_type": "execute_result"
    }
   ],
   "source": [
    "chain[0]"
   ]
  },
  {
   "cell_type": "code",
   "execution_count": 89,
   "metadata": {},
   "outputs": [
    {
     "data": {
      "text/plain": [
       "{'hash': 'b42642d5eb64a407d990685ec113713ee4d64daf8b7296f852b99f3a26e1432d',\n",
       " 'contents': {'blockNumber': 1,\n",
       "  'parentHash': '7c88a4312054f89a2b73b04989cd9b9e1ae437e1048f89fbb4e18a08479de507',\n",
       "  'txnCount': 5,\n",
       "  'txns': [{'Alice': 1, 'Bob': -1},\n",
       "   {'Alice': -2, 'Bob': 2},\n",
       "   {'Alice': 3, 'Bob': -3},\n",
       "   {'Alice': -1, 'Bob': 1},\n",
       "   {'Alice': -3, 'Bob': 3}]}}"
      ]
     },
     "execution_count": 89,
     "metadata": {},
     "output_type": "execute_result"
    }
   ],
   "source": [
    "chain[1]"
   ]
  },
  {
   "cell_type": "code",
   "execution_count": 90,
   "metadata": {},
   "outputs": [
    {
     "data": {
      "text/plain": [
       "{'Alice': 43, 'Bob': 57}"
      ]
     },
     "execution_count": 90,
     "metadata": {},
     "output_type": "execute_result"
    }
   ],
   "source": [
    "state"
   ]
  },
  {
   "cell_type": "code",
   "execution_count": 372,
   "metadata": {},
   "outputs": [],
   "source": [
    "\n",
    "# Let's define functinos to check if the new blocks are valid\n",
    "# and if the whole chain is valid\n",
    "\n",
    "# On a blockchain network, this becomes important in two ways :\n",
    "#   * When we initially set up our node, we will download the\n",
    "#     full blockchain history. After that we would need to run\n",
    "#     through the blockchain to compute the state of the system.\n",
    "#     To protect against inserting invalid transactions in the \n",
    "#     initial chain, we need to check the validity of the entire\n",
    "#     chain in the initial download.\n",
    "\n",
    "#   * Once out node is synced with the network (has and up-to-date\n",
    "#     copy of the blockchain and representation of system state)\n",
    "#     it will need to check the validity of new blocks that are\n",
    "#      broadcast to the network."
   ]
  },
  {
   "cell_type": "code",
   "execution_count": 285,
   "metadata": {},
   "outputs": [],
   "source": [
    "\n",
    "# We will need three functions to facilitate this :\n",
    "\n",
    "# checkBlockHash : A simple helper function that makes sure that\n",
    "#                  the block contents match the hash.\n",
    "\n",
    "# checkBlockValidity : Check the validity of the block, given its \n",
    "#                      parent and the current system state. We\n",
    "#                      will need to return the updated state if\n",
    "#                      the block is valid, and raise an error \n",
    "#                      otherwise.\n",
    "\n",
    "# checkChain : Check the validity of the entire chain, and compute\n",
    "#              the system state beginning at the genesis block.\n",
    "#              This will return the system state if the chain is\n",
    "#              valid, and raise an error otherwise."
   ]
  },
  {
   "cell_type": "code",
   "execution_count": 93,
   "metadata": {},
   "outputs": [],
   "source": [
    "def checkBlockHash(block):\n",
    "    expectedHash = hashMe(block['contents'])\n",
    "    \n",
    "    if block['hash']!= expectedHash:\n",
    "        raise Exception('Hash does not match contents of block %s'%block['contents']['blockNumber'])\n",
    "               \n",
    "    return"
   ]
  },
  {
   "cell_type": "code",
   "execution_count": 67,
   "metadata": {},
   "outputs": [],
   "source": [
    "def checkBlockValidity(block, parent, state):\n",
    "    # We want to check :\n",
    "    #    * Each of the transactions are valid updates to the\n",
    "    #      system state.    \n",
    "    #    * Block hash is valid for block contents.\n",
    "    #    * Block number increments the parent block number by 1.\n",
    "    #    * Accurately reference the parent block hash.\n",
    "    \n",
    "    parentNumber = parent['contents']['blockNumber']\n",
    "    parentHash   = parent['hash']\n",
    "    blockNumber  = block['contents']['blockNumber']\n",
    "\n",
    "    # Check transaction validity :\n",
    "    for txn in block['contents']['txns']:\n",
    "        if isValidTxn(txn,state):\n",
    "            state = updateState(txn,state)\n",
    "        else:\n",
    "            raise Exception('Invaid transaction in block %s: %s' %(blockNumber, txn))\n",
    "            \n",
    "    # Check block hash:\n",
    "    checkBlockHash(block)\n",
    "    \n",
    "    # Check block number :\n",
    "    if blockNumber !=(parentNumber+1):\n",
    "        raise Exception('Hash does not match contents of block %s' %blockNumber)\n",
    "        \n",
    "    # Check parent hash storage in block:\n",
    "    if block['contents']['parentHash'] != parentHash:\n",
    "        raise Exception('Parent hash not accurate at block %s'%blockNumber)\n",
    "    \n",
    "    return state"
   ]
  },
  {
   "cell_type": "code",
   "execution_count": 95,
   "metadata": {},
   "outputs": [],
   "source": [
    "def checkChain(chain):\n",
    "    # Work through the chain from genesis block\n",
    "    # Check :\n",
    "    #    * All transactions are internally valid.\n",
    "    #    * Blocks are linked by hashes.\n",
    "    #    * Transaction does not cause overdraft\n",
    "    \n",
    "    # This returns the state as a dictionary of accounts and\n",
    "    # balances or returns False.\n",
    "    \n",
    "    \n",
    "    # Make sure that the chain is a list of dicts:\n",
    "    if type(chain)==str:\n",
    "        try:\n",
    "            chain = json.loads(chain)\n",
    "            assert( type(chain)==list)\n",
    "        except :\n",
    "            return False\n",
    "    elif type(chain) != list:\n",
    "        return False\n",
    "    \n",
    "    state = {}\n",
    "\n",
    "    # Special treatment for genesis block :\n",
    "    for txn in chain[0]['contents']['txns']:\n",
    "        state = updateState(txn,state)\n",
    "    checkBlockHash(chain[0])\n",
    "    parent = chain[0]\n",
    "    \n",
    "    # Subsequent blocks :\n",
    "    for block in chain[1:]:\n",
    "        state = checkBlockValidity(block, parent,state)\n",
    "        parent = block\n",
    "        \n",
    "    return state"
   ]
  },
  {
   "cell_type": "code",
   "execution_count": 96,
   "metadata": {},
   "outputs": [
    {
     "data": {
      "text/plain": [
       "{'Alice': 43, 'Bob': 57}"
      ]
     },
     "execution_count": 96,
     "metadata": {},
     "output_type": "execute_result"
    }
   ],
   "source": [
    "checkChain(chain)"
   ]
  },
  {
   "cell_type": "code",
   "execution_count": 98,
   "metadata": {},
   "outputs": [
    {
     "name": "stdout",
     "output_type": "stream",
     "text": [
      "[\n",
      "  {\n",
      "    \"contents\": {\n",
      "      \"blockNumber\": 0,\n",
      "      \"parentHash\": null,\n",
      "      \"txnCount\": 1,\n",
      "      \"txns\": [\n",
      "        {\n",
      "          \"Alice\": 50,\n",
      "          \"Bob\": 50\n",
      "        }\n",
      "      ]\n",
      "    },\n",
      "    \"hash\": \"7c88a4312054f89a2b73b04989cd9b9e1ae437e1048f89fbb4e18a08479de507\"\n",
      "  },\n",
      "  {\n",
      "    \"contents\": {\n",
      "      \"blockNumber\": 1,\n",
      "      \"parentHash\": \"7c88a4312054f89a2b73b04989cd9b9e1ae437e1048f89fbb4e18a08479de507\",\n",
      "      \"txnCount\": 5,\n",
      "      \"txns\": [\n",
      "        {\n",
      "          \"Alice\": 1,\n",
      "          \"Bob\": -1\n",
      "        },\n",
      "        {\n",
      "          \"Alice\": -2,\n",
      "          \"Bob\": 2\n",
      "        },\n",
      "        {\n",
      "          \"Alice\": 3,\n",
      "          \"Bob\": -3\n",
      "        },\n",
      "        {\n",
      "          \"Alice\": -1,\n",
      "          \"Bob\": 1\n",
      "        },\n",
      "        {\n",
      "          \"Alice\": -3,\n",
      "          \"Bob\": 3\n",
      "        }\n",
      "      ]\n",
      "    },\n",
      "    \"hash\": \"b42642d5eb64a407d990685ec113713ee4d64daf8b7296f852b99f3a26e1432d\"\n",
      "  },\n",
      "  {\n",
      "    \"contents\": {\n",
      "      \"blockNumber\": 2,\n",
      "      \"parentHash\": \"b42642d5eb64a407d990685ec113713ee4d64daf8b7296f852b99f3a26e1432d\",\n",
      "      \"txnCount\": 5,\n",
      "      \"txns\": [\n",
      "        {\n",
      "          \"Alice\": 2,\n",
      "          \"Bob\": -2\n",
      "        },\n",
      "        {\n",
      "          \"Alice\": 2,\n",
      "          \"Bob\": -2\n",
      "        },\n",
      "        {\n",
      "          \"Alice\": 3,\n",
      "          \"Bob\": -3\n",
      "        },\n",
      "        {\n",
      "          \"Alice\": 3,\n",
      "          \"Bob\": -3\n",
      "        },\n",
      "        {\n",
      "          \"Alice\": 2,\n",
      "          \"Bob\": -2\n",
      "        }\n",
      "      ]\n",
      "    },\n",
      "    \"hash\": \"fbf4ef63adeb70bc52da269def7d00aa78532b1619454bc47aa91e2be812ac4e\"\n",
      "  },\n",
      "  {\n",
      "    \"contents\": {\n",
      "      \"blockNumber\": 3,\n",
      "      \"parentHash\": \"fbf4ef63adeb70bc52da269def7d00aa78532b1619454bc47aa91e2be812ac4e\",\n",
      "      \"txnCount\": 5,\n",
      "      \"txns\": [\n",
      "        {\n",
      "          \"Alice\": -2,\n",
      "          \"Bob\": 2\n",
      "        },\n",
      "        {\n",
      "          \"Alice\": 1,\n",
      "          \"Bob\": -1\n",
      "        },\n",
      "        {\n",
      "          \"Alice\": 2,\n",
      "          \"Bob\": -2\n",
      "        },\n",
      "        {\n",
      "          \"Alice\": -1,\n",
      "          \"Bob\": 1\n",
      "        },\n",
      "        {\n",
      "          \"Alice\": -3,\n",
      "          \"Bob\": 3\n",
      "        }\n",
      "      ]\n",
      "    },\n",
      "    \"hash\": \"357974bff0a1ad1b8119b6f8a54a72b291a87466ffefa03dd53b28824d9e178f\"\n",
      "  },\n",
      "  {\n",
      "    \"contents\": {\n",
      "      \"blockNumber\": 4,\n",
      "      \"parentHash\": \"357974bff0a1ad1b8119b6f8a54a72b291a87466ffefa03dd53b28824d9e178f\",\n",
      "      \"txnCount\": 5,\n",
      "      \"txns\": [\n",
      "        {\n",
      "          \"Alice\": -1,\n",
      "          \"Bob\": 1\n",
      "        },\n",
      "        {\n",
      "          \"Alice\": 3,\n",
      "          \"Bob\": -3\n",
      "        },\n",
      "        {\n",
      "          \"Alice\": 1,\n",
      "          \"Bob\": -1\n",
      "        },\n",
      "        {\n",
      "          \"Alice\": 1,\n",
      "          \"Bob\": -1\n",
      "        },\n",
      "        {\n",
      "          \"Alice\": -3,\n",
      "          \"Bob\": 3\n",
      "        }\n",
      "      ]\n",
      "    },\n",
      "    \"hash\": \"8ac5d71e463f1ff1e98a4a80830274df3cd0c04f345a99607e8266858ec3483a\"\n",
      "  },\n",
      "  {\n",
      "    \"contents\": {\n",
      "      \"blockNumber\": 5,\n",
      "      \"parentHash\": \"8ac5d71e463f1ff1e98a4a80830274df3cd0c04f345a99607e8266858ec3483a\",\n",
      "      \"txnCount\": 5,\n",
      "      \"txns\": [\n",
      "        {\n",
      "          \"Alice\": -3,\n",
      "          \"Bob\": 3\n",
      "        },\n",
      "        {\n",
      "          \"Alice\": -3,\n",
      "          \"Bob\": 3\n",
      "        },\n",
      "        {\n",
      "          \"Alice\": -2,\n",
      "          \"Bob\": 2\n",
      "        },\n",
      "        {\n",
      "          \"Alice\": 2,\n",
      "          \"Bob\": -2\n",
      "        },\n",
      "        {\n",
      "          \"Alice\": 1,\n",
      "          \"Bob\": -1\n",
      "        }\n",
      "      ]\n",
      "    },\n",
      "    \"hash\": \"645025f95e92df838cce7f4190c80e03b273342dd31f6d7d65bb4e3a2c83b6d7\"\n",
      "  },\n",
      "  {\n",
      "    \"contents\": {\n",
      "      \"blockNumber\": 6,\n",
      "      \"parentHash\": \"645025f95e92df838cce7f4190c80e03b273342dd31f6d7d65bb4e3a2c83b6d7\",\n",
      "      \"txnCount\": 5,\n",
      "      \"txns\": [\n",
      "        {\n",
      "          \"Alice\": -1,\n",
      "          \"Bob\": 1\n",
      "        },\n",
      "        {\n",
      "          \"Alice\": -3,\n",
      "          \"Bob\": 3\n",
      "        },\n",
      "        {\n",
      "          \"Alice\": -1,\n",
      "          \"Bob\": 1\n",
      "        },\n",
      "        {\n",
      "          \"Alice\": -2,\n",
      "          \"Bob\": 2\n",
      "        },\n",
      "        {\n",
      "          \"Alice\": -3,\n",
      "          \"Bob\": 3\n",
      "        }\n",
      "      ]\n",
      "    },\n",
      "    \"hash\": \"42a410254f5e460268b005ccf26871e6e04a505f694eaf3deac512dc95a0477d\"\n",
      "  }\n",
      "]\n"
     ]
    }
   ],
   "source": [
    "chainAsText = json.dumps(chain,sort_keys=True, indent=2)\n",
    "print(chainAsText)"
   ]
  },
  {
   "cell_type": "code",
   "execution_count": 99,
   "metadata": {},
   "outputs": [],
   "source": [
    "# Node A:\n",
    "import copy\n",
    "nodeBchain = copy.copy(chain)\n",
    "nodeBtxns  =[makeTransaction() for i in range(5)]\n",
    "newBlock   = makeBlock(nodeBtxns, nodeBchain)"
   ]
  },
  {
   "cell_type": "code",
   "execution_count": 100,
   "metadata": {},
   "outputs": [],
   "source": [
    "# Now assume that the new block is transmitted into our node\n",
    "# and we need to check it and update our state."
   ]
  },
  {
   "cell_type": "code",
   "execution_count": 101,
   "metadata": {},
   "outputs": [
    {
     "name": "stdout",
     "output_type": "stream",
     "text": [
      "Blockchain on Node A is currently 7 block long\n",
      "New Block Recieved; Checking validity . . .\n",
      "Blockchain on node A is now 8 blocks long\n"
     ]
    }
   ],
   "source": [
    "print(\"Blockchain on Node A is currently %s block long\"%len(chain))\n",
    "\n",
    "try:\n",
    "    print(\"New Block Recieved; Checking validity . . .\")\n",
    "    state = checkBlockValidity(newBlock,chain[-1],state)\n",
    "    \n",
    "    # Update the state (will throw error if block is invalid) :\n",
    "    chain.append(newBlock)\n",
    "\n",
    "except:\n",
    "    print(\"Invalid block.\")\n",
    "\n",
    "print(\"Blockchain on node A is now %s blocks long\"%len(chain))"
   ]
  },
  {
   "cell_type": "code",
   "execution_count": null,
   "metadata": {},
   "outputs": [],
   "source": []
  }
 ],
 "metadata": {
  "kernelspec": {
   "display_name": "Python 3",
   "language": "python",
   "name": "python3"
  },
  "language_info": {
   "codemirror_mode": {
    "name": "ipython",
    "version": 3
   },
   "file_extension": ".py",
   "mimetype": "text/x-python",
   "name": "python",
   "nbconvert_exporter": "python",
   "pygments_lexer": "ipython3",
   "version": "3.9.0"
  }
 },
 "nbformat": 4,
 "nbformat_minor": 4
}
